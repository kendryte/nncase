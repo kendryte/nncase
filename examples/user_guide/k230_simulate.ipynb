{
 "cells": [
  {
   "cell_type": "code",
   "execution_count": null,
   "id": "33ed6f60-ffd9-40e4-94f7-9815557a2678",
   "metadata": {},
   "outputs": [],
   "source": [
    "# 1. Install libs and set python env"
   ]
  },
  {
   "cell_type": "code",
   "execution_count": null,
   "id": "82a8f9c1-c2bf-4270-9f1f-ac25c9fdd898",
   "metadata": {},
   "outputs": [],
   "source": [
    "!pip install --upgrade pip\n",
    "!pip install nncase --timeout=1000\n",
    "!pip install nncase-kpu --timeout=1000\n",
    "!pip install onnx onnxsim scikit-learn\n",
    "\n",
    "# nncase-2.x need dotnet-7\n",
    "# Ubuntu use apt to install dotnet-7.0 (The docker has installed dotnet7.0)\n",
    "!sudo apt-get install -y dotnet-sdk-7.0"
   ]
  },
  {
   "cell_type": "code",
   "execution_count": null,
   "id": "8b32a0b5-90b0-4bc7-8448-2a544b7d06e9",
   "metadata": {},
   "outputs": [],
   "source": [
    "%env PATH=$PATH:/usr/local/lib/python3.8/site-packages"
   ]
  },
  {
   "cell_type": "code",
   "execution_count": null,
   "id": "50a030a6-10ab-4f53-88e6-cdc85361b6e6",
   "metadata": {},
   "outputs": [],
   "source": [
    "# 2. Set compile options and PTQ options (quantize model)"
   ]
  },
  {
   "cell_type": "code",
   "execution_count": null,
   "id": "a7eff82e-295c-4cce-afbc-ce64c84dc40a",
   "metadata": {},
   "outputs": [],
   "source": [
    "import nncase\n",
    "import numpy as np\n",
    "from nncase_base_func import *\n",
    "\n",
    "def compile_kmodel(model_path, dump_path, calib_data):\n",
    "    \"\"\"\n",
    "    Set compile options and ptq options.\n",
    "    Compile kmodel.\n",
    "    Dump the compile-time result to 'compile_options.dump_dir'\n",
    "    \"\"\"\n",
    "    print(\"\\n----------   compile    ----------\")\n",
    "    print(\"Simplify...\")\n",
    "    model_file = model_simplify(model_path)\n",
    "\n",
    "    print(\"Set options...\")\n",
    "    # import_options\n",
    "    import_options = nncase.ImportOptions()\n",
    "\n",
    "    ############################################\n",
    "    # The code below, you need to modify to fit your model\n",
    "    ############################################\n",
    "    # compile_options\n",
    "    compile_options = nncase.CompileOptions()\n",
    "    compile_options.target = \"k230\" #\"cpu\"\n",
    "    compile_options.dump_ir = True  # if False, will not dump the compile-time result.\n",
    "    compile_options.dump_asm = True\n",
    "    compile_options.dump_dir = dump_path\n",
    "    compile_options.input_file = \"\"\n",
    "    \n",
    "    # preprocess args\n",
    "    # more details in docs/USAGE_v2.md\n",
    "    compile_options.preprocess = False\n",
    "    if compile_options.preprocess:\n",
    "        compile_options.input_type = \"uint8\" # \"uint8\" \"float32\"\n",
    "        compile_options.input_shape = [1,224,320,3]\n",
    "        compile_options.input_range = [0,1]\n",
    "        compile_options.input_layout = \"NHWC\" # \"NHWC\"\n",
    "        compile_options.swapRB = False\n",
    "        compile_options.mean = [0,0,0]\n",
    "        compile_options.std = [1,1,1]\n",
    "        compile_options.letterbox_value = 0\n",
    "        compile_options.output_layout = \"NHWC\" # \"NHWC\"\n",
    "    # quant options\n",
    "    ptq_options = nncase.PTQTensorOptions()\n",
    "    ptq_options.quant_type = \"uint8\" # datatype : \"float32\", \"int8\", \"int16\"\n",
    "    ptq_options.w_quant_type = \"uint8\"  # datatype : \"float32\", \"int8\", \"int16\"\n",
    "    ptq_options.calibrate_method = \"NoClip\" # \"Kld\"\n",
    "    ptq_options.finetune_weights_method = \"NoFineTuneWeights\"\n",
    "    ptq_options.dump_quant_error = False\n",
    "    ptq_options.dump_quant_error_symmetric_for_signed = False\n",
    "    \n",
    "    # more details in docs/MixQuant.md\n",
    "    ptq_options.quant_scheme = \"\"\n",
    "    ptq_options.export_quant_scheme = False\n",
    "    ptq_options.export_weight_range_by_channel = False\n",
    "    ############################################\n",
    "    \n",
    "    ptq_options.samples_count = len(calib_data[0])\n",
    "    ptq_options.set_tensor_data(calib_data)\n",
    "    \n",
    "    print(\"Compiling...\")\n",
    "    compiler = nncase.Compiler(compile_options)\n",
    "    # import\n",
    "    model_content = read_model_file(model_file)\n",
    "    if model_path.split(\".\")[-1] == \"onnx\":\n",
    "        compiler.import_onnx(model_content, import_options)\n",
    "    elif model_path.split(\".\")[-1] == \"tflite\":\n",
    "        compiler.import_tflite(model_content, import_options)\n",
    "    \n",
    "    compiler.use_ptq(ptq_options)\n",
    "    \n",
    "    # compile\n",
    "    compiler.compile()\n",
    "    kmodel = compiler.gencode_tobytes()\n",
    "    \n",
    "    kmodel_path = os.path.join(dump_path, \"test.kmodel\")\n",
    "    with open(kmodel_path, 'wb') as f:\n",
    "        f.write(kmodel)\n",
    "    print(\"----------------end-----------------\")\n",
    "    return kmodel_path\n"
   ]
  },
  {
   "cell_type": "code",
   "execution_count": null,
   "id": "a5a8bd96-9f33-4768-970f-65b558d42187",
   "metadata": {},
   "outputs": [],
   "source": [
    "# 3. Example of compiling model with a single input."
   ]
  },
  {
   "cell_type": "code",
   "execution_count": null,
   "id": "c957fe20-99c9-4a54-bae8-38361a8f8830",
   "metadata": {},
   "outputs": [],
   "source": [
    "# compile kmodel single input\n",
    "model_path = \"./test.tflite\"\n",
    "dump_path = \"./tmp_tflite\"\n",
    "\n",
    "# If model has multiple inputs, calib_data format is \"[[x1, x2,...], [y1, y2,...], ...]\"\n",
    "# e.g. Model has three inputs (x, y, z), the calib_data is '[[x1, x2, x3],[y1, y2, y3],[z1, z2, z3]]'\n",
    "\n",
    "# sample_count is 2\n",
    "calib_data = [[np.random.rand(1, 240, 320, 3).astype(np.float32), np.random.rand(1, 240, 320, 3).astype(np.float32)]]\n",
    "\n",
    "kmodel_path = compile_kmodel(model_path, dump_path, calib_data)\n"
   ]
  },
  {
   "cell_type": "code",
   "execution_count": null,
   "id": "276b59dd-34d9-4238-897d-657a2c379548",
   "metadata": {},
   "outputs": [],
   "source": [
    "# 4. Example of simulating kmodel with a single input."
   ]
  },
  {
   "cell_type": "code",
   "execution_count": null,
   "id": "7f617edc-781c-4b8b-b45d-fef2f0b36a46",
   "metadata": {},
   "outputs": [],
   "source": [
    "# run kmodel(simulate)\n",
    "import os\n",
    "\n",
    "kmodel_path = \"./tmp_tflite/test.kmodel\"\n",
    "input_data = [np.random.rand(1, 240, 320, 3).astype(np.float32)]\n",
    "\n",
    "result = run_kmodel(kmodel_path, input_data)\n",
    "\n",
    "for idx, i in enumerate(result):\n",
    "    print(i.shape)\n",
    "    i.tofile(os.path.join(dump_path,\"nncase_result_{}.bin\".format(idx)))"
   ]
  },
  {
   "cell_type": "code",
   "execution_count": null,
   "id": "9e99fe16-fa47-4bde-b126-fd5bef74a74e",
   "metadata": {},
   "outputs": [],
   "source": [
    "# 5. Example of comparing kmodel result with tflite result."
   ]
  },
  {
   "cell_type": "code",
   "execution_count": null,
   "id": "4003a7ba-a1b4-4488-b3ca-d9a00a55e964",
   "metadata": {},
   "outputs": [],
   "source": [
    "!pip install tensorflow\n",
    "import tensorflow as tf\n",
    "interp = tf.lite.Interpreter(model_path=model_path)\n",
    "\n",
    "inputs = []\n",
    "for idx, item in enumerate(interp.get_input_details()):\n",
    "    input_dict = {}\n",
    "    input_dict['index'] = item['index']\n",
    "    input_dict['value'] = input_data[idx]\n",
    "    inputs.append(input_dict)\n",
    "    \n",
    "# print(input_dict)\n",
    "\n",
    "interp.allocate_tensors()\n",
    "for input in inputs:\n",
    "    interp.set_tensor(input['index'], input['value'])\n",
    "interp.invoke()\n",
    "\n",
    "tflite_result = []\n",
    "for item in interp.get_output_details():\n",
    "    tflite_result.append(interp.get_tensor(item['index']))\n",
    "\n",
    "for index, (i, j) in enumerate(zip(tflite_result, result)):\n",
    "    print(\"result {} cosine = \".format(index), get_cosine(i, j))\n"
   ]
  },
  {
   "cell_type": "code",
   "execution_count": null,
   "id": "71d0d977-d499-42df-ba8d-647ef4182042",
   "metadata": {},
   "outputs": [],
   "source": [
    "# 6. Example of compiling model with multiple inputs."
   ]
  },
  {
   "cell_type": "code",
   "execution_count": null,
   "id": "73f758da-bd81-44f9-9eff-734a23c427c2",
   "metadata": {},
   "outputs": [],
   "source": [
    "# compile kmodel multiple inputs\n",
    "model_path = \"./test.onnx\"\n",
    "dump_path = \"./tmp_onnx\"\n",
    "\n",
    "# If model has multiple inputs, calib_data format is \"[[x1, x2,...], [y1, y2,...], ...]\"\n",
    "# e.g. Model has three inputs (x, y, z), the calib_data is '[[x1, x2, x3],[y1, y2, y3],[z1, z2, z3]]'\n",
    "# x:{shape: [3,100], range: [1,5], dtype: int64}\n",
    "# y:{shape: [100, 3, 192], range: [0,1), dtype: float32}\n",
    "# z:{shape: [3,100], dtype: bool}\n",
    "# calib_data = [[ np.random.randint(1, 5, size=[3,100], dtype='int64'), np.random.randint(1, 5, size=[3,100], dtype='int64')],\n",
    "#               [ np.random.rand(100, 3, 192).astype(np.float32), np.random.rand(100, 3, 192).astype(np.float32)],\n",
    "#               [ np.random.rand(3,100).astype(np.float32)>0.5, np.random.rand(3,100).astype(np.float32)>0.5],] # bool\n",
    "\n",
    "# sample_count is 2\n",
    "calib_data = [[np.random.rand(1, 1, 1024).astype(np.float32), np.random.rand(1, 1, 1024).astype(np.float32)],\n",
    "              [np.random.rand(1, 1, 320).astype(np.float32), np.random.rand(1, 1, 320).astype(np.float32)]]\n",
    "\n",
    "kmodel_path = compile_kmodel(model_path, dump_path, calib_data)\n",
    "\n"
   ]
  },
  {
   "cell_type": "code",
   "execution_count": null,
   "id": "3de92015-62ba-4b49-ad18-64db54740152",
   "metadata": {},
   "outputs": [],
   "source": []
  },
  {
   "cell_type": "code",
   "execution_count": null,
   "id": "976e091a-a51f-4dc7-be55-2dce8dc65d3a",
   "metadata": {},
   "outputs": [],
   "source": [
    "# 7. Example of simulating kmodel with multiple inputs."
   ]
  },
  {
   "cell_type": "code",
   "execution_count": null,
   "id": "8fc1f43a-99fa-463a-b1b1-c6a9174ecd7a",
   "metadata": {},
   "outputs": [],
   "source": [
    "# run kmodel(simulate)\n",
    "import os\n",
    "\n",
    "kmodel_path = \"./tmp_onnx/test.kmodel\"\n",
    "input_data = [np.random.rand(1, 1, 1024).astype(np.float32), np.random.rand(1, 1, 320).astype(np.float32)]\n",
    "\n",
    "results = run_kmodel(kmodel_path, input_data)\n",
    "\n",
    "for idx, i in enumerate(results):\n",
    "    print(i.shape)\n",
    "    i.tofile(os.path.join(dump_path,\"nncase_result_{}.bin\".format(idx)))\n"
   ]
  },
  {
   "cell_type": "code",
   "execution_count": null,
   "id": "f4b84831-8f5d-4d56-ab78-2682b54493ad",
   "metadata": {},
   "outputs": [],
   "source": [
    "# 8. Example of comparing kmodel results with onnx results."
   ]
  },
  {
   "cell_type": "code",
   "execution_count": null,
   "id": "ee2b661d-f6eb-4dee-b014-0fd3f95d589d",
   "metadata": {},
   "outputs": [],
   "source": [
    "!pip install onnxruntime\n",
    "import onnxruntime as rt\n",
    "\n",
    "# onnx_model = model_simplify(model_path)\n",
    "onnx_model = model_path\n",
    "_, input_info = parse_model_input_output(model_path)\n",
    "onnx_sess = rt.InferenceSession(onnx_model)\n",
    "\n",
    "input_dict = {}\n",
    "for i, info in enumerate(input_info):\n",
    "    print(info['shape'])\n",
    "    input_dict[info[\"name\"]] = input_data[i]\n",
    "\n",
    "onnx_results = onnx_sess.run(None, input_dict)\n",
    "for index, (i, j) in enumerate(zip(onnx_results, results)):\n",
    "    print(\"result {} cosine = \".format(index), get_cosine(i, j))"
   ]
  }
 ],
 "metadata": {
  "kernelspec": {
   "display_name": "Python 3",
   "language": "python",
   "name": "python3"
  },
  "language_info": {
   "codemirror_mode": {
    "name": "ipython",
    "version": 3
   },
   "file_extension": ".py",
   "mimetype": "text/x-python",
   "name": "python",
   "nbconvert_exporter": "python",
   "pygments_lexer": "ipython3",
   "version": "3.8.10"
  }
 },
 "nbformat": 4,
 "nbformat_minor": 5
}
